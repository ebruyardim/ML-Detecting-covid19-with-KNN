{
 "cells": [
  {
   "cell_type": "code",
   "execution_count": 9,
   "metadata": {
    "collapsed": true
   },
   "outputs": [],
   "source": [
    "import cv2\n",
    "import numpy as np\n",
    "import os\n",
    "import pandas as pd"
   ]
  },
  {
   "cell_type": "code",
   "execution_count": 10,
   "outputs": [],
   "source": [
    "def turn_images_to_array(dir_name, my_data):\n",
    "\n",
    "    for i in os.listdir(dir_name):\n",
    "        img_load = cv2.imread(dir_name+'/'+i)  # loading the image from directory\n",
    "        img=cv2.cvtColor(img_load, cv2.COLOR_BGR2GRAY) # reduce depth to 1 from 3\n",
    "        smaller_image = cv2.resize(img, (32, 32), interpolation=cv2.INTER_CUBIC)  # resize the image\n",
    "        #canny_edges = cv2.Canny(smaller_image,100,200)\n",
    "        img = smaller_image.astype(np.float32)  # convert resized image to float array\n",
    "        data1 = [img, i[0],[]] # img->image array i[0]->type []->nearest neighbors\n",
    "        my_data.append(data1)  # collect all datas in a array\n",
    "\n",
    "    return my_data\n",
    "\n",
    "def calculateDistance(test,train):\n",
    "    # Calculates Manhattan distance between test and train matrices\n",
    "    a = abs(test.flatten()-train.flatten())\n",
    "    x = sum(a)\n",
    "    return x\n",
    "\n",
    "def checkTypeOfImage(index):\n",
    "    #returns type of the image at given index\n",
    "    return df.loc[index,\"type\"]\n",
    "\n",
    "\n",
    "def predictedType_KNN(test_index):\n",
    "    covid = 0  # number of covids in the nearest to test data\n",
    "    normal = 0\n",
    "    viral = 0\n",
    "    for t in df.loc[test_index,\"nearestNeighbors\"]:\n",
    "        if checkTypeOfImage(t) == 'N':\n",
    "            normal+=1\n",
    "        elif checkTypeOfImage(t) == 'C':\n",
    "            covid+=1\n",
    "        elif checkTypeOfImage(t) == 'V':\n",
    "            viral+=1\n",
    "    result = max(covid,viral,normal)\n",
    "    # returns result according to maximum\n",
    "    if result == covid:\n",
    "        return 'C'\n",
    "    elif result == normal:\n",
    "        return 'N'\n",
    "    else:\n",
    "        return 'V'\n",
    "\n",
    "def weightedKNN_predictedType(test_index):\n",
    "    covid = 0  # sum of distances of covids in the nearest to test data\n",
    "    normal = 0\n",
    "    viral = 0\n",
    "    for neighbor_index in df.loc[test_index,\"nearestNeighbors\"]:\n",
    "        if checkTypeOfImage(neighbor_index) == 'N':\n",
    "            normal += distancesMatrix[test_index,neighbor_index]\n",
    "        elif checkTypeOfImage(neighbor_index) == 'C':\n",
    "            covid += distancesMatrix[test_index,neighbor_index]\n",
    "        elif checkTypeOfImage(neighbor_index) == 'V':\n",
    "            viral += distancesMatrix[test_index,neighbor_index]\n",
    "    a = []\n",
    "    if covid != 0:\n",
    "        a.append(covid)\n",
    "    if viral != 0:\n",
    "        a.append(viral)\n",
    "    if normal != 0:\n",
    "        a.append(normal)\n",
    "    result = min(a)\n",
    "    # returns result according to minimum distance\n",
    "    if result == covid:\n",
    "        return 'C'\n",
    "    elif result == normal:\n",
    "        return 'N'\n",
    "    else:\n",
    "        return 'V'"
   ],
   "metadata": {
    "collapsed": false,
    "pycharm": {
     "name": "#%%\n"
    }
   }
  },
  {
   "cell_type": "code",
   "execution_count": 11,
   "outputs": [],
   "source": [
    "data_array = []\n",
    "# converts images to 32x32 array\n",
    "data_array = turn_images_to_array('dataset/COVID',data_array)\n",
    "data_array = turn_images_to_array('dataset/Viral Pneumonia', data_array)\n",
    "data_array = turn_images_to_array('dataset/NORMAL', data_array)"
   ],
   "metadata": {
    "collapsed": false,
    "pycharm": {
     "name": "#%%\n"
    }
   }
  },
  {
   "cell_type": "code",
   "execution_count": 12,
   "outputs": [],
   "source": [
    "# collects all data into df Dataframe (array of image, its type and its nearest neighbors)\n",
    "# Nearest neighbors are empty, at first\n",
    "df = pd.DataFrame(data_array,columns=[\"image\",\"type\",\"nearestNeighbors\"])\n",
    "df = df.sample(frac=1).reset_index(drop=True)  # Shuffle the data for k-fold cross validation\n"
   ],
   "metadata": {
    "collapsed": false,
    "pycharm": {
     "name": "#%%\n"
    }
   }
  },
  {
   "cell_type": "code",
   "execution_count": 17,
   "outputs": [],
   "source": [
    "k = 7 # this is the 5 nearest neighbor algorithm\n",
    "k_fold = 10 # data will split into 10 parts (1/10 -> test)\n",
    "fold_size = int(len(df)/k_fold)  # size of each fold"
   ],
   "metadata": {
    "collapsed": false,
    "pycharm": {
     "name": "#%%\n"
    }
   }
  },
  {
   "cell_type": "code",
   "execution_count": 14,
   "outputs": [],
   "source": [
    "\n",
    "distancesMatrix = np.ones((len(df),len(df))) # matrix that keeps distance between all data\n",
    "for i in range(len(df)):\n",
    "    for j in range(i,len(df)):\n",
    "        distance = calculateDistance(df.loc[i,\"image\"],df.loc[j,\"image\"])\n",
    "        distancesMatrix[i,j] = distance\n",
    "        distancesMatrix[j,i] = distance"
   ],
   "metadata": {
    "collapsed": false,
    "pycharm": {
     "name": "#%%\n"
    }
   }
  },
  {
   "cell_type": "code",
   "execution_count": 18,
   "outputs": [],
   "source": [
    "sum_of_knn_accurracies = 0\n",
    "sum_of_weightedKnn_accurracies = 0\n",
    "\n",
    "for i in range(k_fold):\n",
    "    knn_correct_prediction = 0\n",
    "    knn_wrong_prediction = 0\n",
    "    weighted_knn_correct_pred = 0\n",
    "    weighted_knn_wrong_pred = 0\n",
    "    for testIndex in range(len(df)):\n",
    "        sortedNeighbors = np.argsort(distancesMatrix[testIndex]) # sort distances and keeps distance's index\n",
    "        for neighborIndex in sortedNeighbors: # iterates index of sorted neighbors\n",
    "            if testIndex == neighborIndex: # if current data and data in the neighbors list are the same, pass\n",
    "                continue\n",
    "            if len(df.loc[testIndex,\"nearestNeighbors\"]) == k: # collects just k nearest neighbors\n",
    "                break\n",
    "            else:\n",
    "                if neighborIndex not in range(i*fold_size,(i+1)*fold_size,1): # if neighbor is not in own fold\n",
    "                    df.loc[testIndex,\"nearestNeighbors\"].append(neighborIndex) # add index of neighbor to nearest neighbor list\n",
    "\n",
    "        if df.loc[testIndex,\"type\"] == predictedType_KNN(testIndex): # compare actual type and predicted type using knn algorithm\n",
    "            knn_correct_prediction+=1\n",
    "        else:\n",
    "            knn_wrong_prediction+=1\n",
    "        if df.loc[testIndex,\"type\"] == weightedKNN_predictedType(testIndex): # compare actual type and predicted type using knn algorithm\n",
    "            weighted_knn_correct_pred += 1\n",
    "        else:\n",
    "            weighted_knn_wrong_pred += 1\n",
    "        df.loc[testIndex,\"nearestNeighbors\"].clear() # for each fold, clear nearest neighbors\n",
    "    knn_accurracy = (knn_correct_prediction/(knn_correct_prediction+knn_wrong_prediction))*100\n",
    "    weighted_accurracy = (weighted_knn_correct_pred/(weighted_knn_correct_pred+weighted_knn_wrong_pred))*100\n",
    "    sum_of_knn_accurracies += knn_accurracy\n",
    "    sum_of_weightedKnn_accurracies += weighted_accurracy\n",
    "\n",
    "avg_knn_accurracy = sum_of_knn_accurracies/k_fold\n",
    "avg_weightedKnn_accurracy = sum_of_weightedKnn_accurracies/k_fold"
   ],
   "metadata": {
    "collapsed": false,
    "pycharm": {
     "name": "#%%\n"
    }
   }
  },
  {
   "cell_type": "code",
   "execution_count": 19,
   "outputs": [
    {
     "name": "stdout",
     "output_type": "stream",
     "text": [
      "93.04921196526213\n",
      "68.51399163718239\n"
     ]
    }
   ],
   "source": [
    "print(avg_knn_accurracy)\n",
    "print(avg_weightedKnn_accurracy)\n"
   ],
   "metadata": {
    "collapsed": false,
    "pycharm": {
     "name": "#%%\n"
    }
   }
  },
  {
   "cell_type": "code",
   "execution_count": 16,
   "outputs": [],
   "source": [],
   "metadata": {
    "collapsed": false,
    "pycharm": {
     "name": "#%%\n"
    }
   }
  }
 ],
 "metadata": {
  "kernelspec": {
   "display_name": "Python 3",
   "language": "python",
   "name": "python3"
  },
  "language_info": {
   "codemirror_mode": {
    "name": "ipython",
    "version": 2
   },
   "file_extension": ".py",
   "mimetype": "text/x-python",
   "name": "python",
   "nbconvert_exporter": "python",
   "pygments_lexer": "ipython2",
   "version": "2.7.6"
  }
 },
 "nbformat": 4,
 "nbformat_minor": 0
}